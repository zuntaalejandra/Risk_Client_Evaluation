{
  "cells": [
    {
      "cell_type": "code",
      "execution_count": 19,
      "metadata": {
        "colab": {
          "base_uri": "https://localhost:8080/"
        },
        "id": "BGrI2ovL8CFF",
        "outputId": "59cc473e-60f1-4230-bf01-3216d2a120ae"
      },
      "outputs": [
        {
          "name": "stdout",
          "output_type": "stream",
          "text": [
            "Looking in indexes: https://pypi.org/simple, https://us-python.pkg.dev/colab-wheels/public/simple/\n",
            "Collecting mysql\n",
            "  Downloading mysql-0.0.3-py3-none-any.whl (1.2 kB)\n",
            "Collecting mysqlclient (from mysql)\n",
            "  Downloading mysqlclient-2.1.1.tar.gz (88 kB)\n",
            "\u001b[2K     \u001b[90m━━━━━━━━━━━━━━━━━━━━━━━━━━━━━━━━━━━━━━━━\u001b[0m \u001b[32m88.1/88.1 kB\u001b[0m \u001b[31m4.0 MB/s\u001b[0m eta \u001b[36m0:00:00\u001b[0m\n",
            "\u001b[?25h  Preparing metadata (setup.py) ... \u001b[?25l\u001b[?25hdone\n",
            "Building wheels for collected packages: mysqlclient\n",
            "  Building wheel for mysqlclient (setup.py) ... \u001b[?25l\u001b[?25hdone\n",
            "  Created wheel for mysqlclient: filename=mysqlclient-2.1.1-cp310-cp310-linux_x86_64.whl size=108358 sha256=153ac36b58d1630c29ba3ec48e9398bf9a203733589a806c3ac7ffcfce357378\n",
            "  Stored in directory: /root/.cache/pip/wheels/7d/34/ba/a769c165b01646816afdf9bf792e847ef149693fee432b6b65\n",
            "Successfully built mysqlclient\n",
            "Installing collected packages: mysqlclient, mysql\n",
            "Successfully installed mysql-0.0.3 mysqlclient-2.1.1\n"
          ]
        }
      ],
      "source": [
        "!pip install mysql\n",
        "import mysql\n",
        "\n",
        "\n"
      ]
    },
    {
      "cell_type": "code",
      "execution_count": 32,
      "metadata": {
        "id": "8aQcq7NCLJAk"
      },
      "outputs": [],
      "source": [
        "# you must have your credencials to connect to the BD, ask Ale for information\n",
        "cnx = mysql.connector.connect(user='',\n",
        "                              password='',\n",
        "                              host='',\n",
        "                              database='')"
      ]
    },
    {
      "cell_type": "code",
      "execution_count": 33,
      "metadata": {
        "id": "mHAb30XGAr46"
      },
      "outputs": [],
      "source": [
        "cursor_ = cnx.cursor(buffered=True)"
      ]
    },
    {
      "cell_type": "code",
      "execution_count": 35,
      "metadata": {
        "colab": {
          "base_uri": "https://localhost:8080/"
        },
        "id": "6HfIr3Hg-D72",
        "outputId": "cd42197a-ffc0-4174-fcb9-88b22185b7ae"
      },
      "outputs": [
        {
          "name": "stdout",
          "output_type": "stream",
          "text": [
            "Row: --> ID 8, data_2 100000, data_5 2, data_6 0\n",
            "Row: --> ID 16, data_2 50000, data_5 3, data_6 1\n"
          ]
        }
      ],
      "source": [
        "\n",
        "\n",
        "query = (\"SELECT ID,X1,X3,X6 FROM clients_info WHERE X2 = %s AND X5 = %s\")\n",
        "\n",
        "x2_param = 2 # sexo masculino\n",
        "x5_param = 23 # edad\n",
        "\n",
        "cursor_.execute(query, (x2_param, x5_param))\n",
        "\n",
        "for (x0,x1,x3,x6) in cursor_:\n",
        "  print(f\"Row: --> ID {x0}, data_2 {x1}, data_5 {x3}, data_6 {x6}\")\n",
        "\n",
        "cursor_.close()\n",
        "cnx.close()"
      ]
    }
  ],
  "metadata": {
    "colab": {
      "provenance": []
    },
    "kernelspec": {
      "display_name": "Python 3",
      "name": "python3"
    },
    "language_info": {
      "name": "python"
    }
  },
  "nbformat": 4,
  "nbformat_minor": 0
}
